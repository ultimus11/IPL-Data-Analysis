{
  "nbformat": 4,
  "nbformat_minor": 0,
  "metadata": {
    "colab": {
      "name": "Untitled7.ipynb",
      "provenance": []
    },
    "kernelspec": {
      "name": "python3",
      "display_name": "Python 3"
    },
    "language_info": {
      "name": "python"
    }
  },
  "cells": [
    {
      "cell_type": "code",
      "metadata": {
        "id": "m66kcN0N-l2g"
      },
      "source": [
        "import pandas as pd"
      ],
      "execution_count": 2,
      "outputs": []
    },
    {
      "cell_type": "code",
      "metadata": {
        "colab": {
          "base_uri": "https://localhost:8080/"
        },
        "id": "d49UEQfx_EJj",
        "outputId": "4164552f-8a6c-4d72-bbcd-3828228280b4"
      },
      "source": [
        "df = pd.read_csv('/content/data.csv')\n",
        "\n",
        "print(df.head(10))"
      ],
      "execution_count": 7,
      "outputs": [
        {
          "output_type": "stream",
          "text": [
            "       id  inning  ...           batting_team                 bowling_team\n",
            "0  335982       1  ...  Kolkata Knight Riders  Royal Challengers Bangalore\n",
            "1  335982       1  ...  Kolkata Knight Riders  Royal Challengers Bangalore\n",
            "2  335982       1  ...  Kolkata Knight Riders  Royal Challengers Bangalore\n",
            "3  335982       1  ...  Kolkata Knight Riders  Royal Challengers Bangalore\n",
            "4  335982       1  ...  Kolkata Knight Riders  Royal Challengers Bangalore\n",
            "5  335982       1  ...  Kolkata Knight Riders  Royal Challengers Bangalore\n",
            "6  335982       1  ...  Kolkata Knight Riders  Royal Challengers Bangalore\n",
            "7  335982       1  ...  Kolkata Knight Riders  Royal Challengers Bangalore\n",
            "8  335982       1  ...  Kolkata Knight Riders  Royal Challengers Bangalore\n",
            "9  335982       1  ...  Kolkata Knight Riders  Royal Challengers Bangalore\n",
            "\n",
            "[10 rows x 18 columns]\n"
          ],
          "name": "stdout"
        }
      ]
    },
    {
      "cell_type": "code",
      "metadata": {
        "colab": {
          "base_uri": "https://localhost:8080/"
        },
        "id": "TZycQmzF_Gif",
        "outputId": "2a8810c3-8c75-4a0d-8a45-11d470501833"
      },
      "source": [
        "#Mean\n",
        "x = df[\"batsman_runs\"].mean()\n",
        "print(int(x))\n",
        "#df[\"batsman_runs\"].fillna(x, inplace = True)"
      ],
      "execution_count": 8,
      "outputs": [
        {
          "output_type": "stream",
          "text": [
            "1\n"
          ],
          "name": "stdout"
        }
      ]
    },
    {
      "cell_type": "code",
      "metadata": {
        "colab": {
          "base_uri": "https://localhost:8080/"
        },
        "id": "vN4v43g7_MZi",
        "outputId": "d8aa4869-6294-4aa3-8767-71703fe0dcf6"
      },
      "source": [
        "#Median\n",
        "x = df[\"batsman_runs\"].median()\n",
        "print(x)\n",
        "#df[\"batsman_runs\"].fillna(x, inplace = True)"
      ],
      "execution_count": 5,
      "outputs": [
        {
          "output_type": "stream",
          "text": [
            "1.0\n"
          ],
          "name": "stdout"
        }
      ]
    },
    {
      "cell_type": "code",
      "metadata": {
        "colab": {
          "base_uri": "https://localhost:8080/"
        },
        "id": "FAHkte8N_Q2M",
        "outputId": "60f557fb-2757-4bee-9899-ff1021b45643"
      },
      "source": [
        "#Mode\n",
        "x = df[\"batsman_runs\"].mode()[0]\n",
        "print(x)\n",
        "#df[\"batsman_runs\"].fillna(x, inplace = True)"
      ],
      "execution_count": 15,
      "outputs": [
        {
          "output_type": "stream",
          "text": [
            "0\n"
          ],
          "name": "stdout"
        }
      ]
    }
  ]
}